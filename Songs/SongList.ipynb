{
 "metadata": {
  "language_info": {
   "codemirror_mode": {
    "name": "ipython",
    "version": 3
   },
   "file_extension": ".py",
   "mimetype": "text/x-python",
   "name": "python",
   "nbconvert_exporter": "python",
   "pygments_lexer": "ipython3",
   "version": "3.7.6-final"
  },
  "orig_nbformat": 2,
  "kernelspec": {
   "name": "python3",
   "display_name": "Python 3.7.6 64-bit ('Spyder_4': conda)"
  }
 },
 "nbformat": 4,
 "nbformat_minor": 2,
 "cells": [
  {
   "cell_type": "code",
   "execution_count": 1,
   "metadata": {},
   "outputs": [],
   "source": [
    "import pandas as pd\n",
    "import requests \n",
    "import lxml.html\n",
    "import os\n"
   ]
  },
  {
   "cell_type": "code",
   "execution_count": 4,
   "metadata": {},
   "outputs": [
    {
     "output_type": "execute_result",
     "data": {
      "text/plain": [
       "                                           url  year      place\n",
       "0   https://eurovision.tv/event/rotterdam-2021  2021  rotterdam\n",
       "1   https://eurovision.tv/event/rotterdam-2020  2020  rotterdam\n",
       "2    https://eurovision.tv/event/tel-aviv-2019  2019   tel aviv\n",
       "3      https://eurovision.tv/event/lisbon-2018  2018     lisbon\n",
       "4        https://eurovision.tv/event/kyiv-2017  2017       kyiv\n",
       "..                                         ...   ...        ...\n",
       "61     https://eurovision.tv/event/london-1960  1960     london\n",
       "62     https://eurovision.tv/event/cannes-1959  1959     cannes\n",
       "63  https://eurovision.tv/event/hilversum-1958  1958  hilversum\n",
       "64  https://eurovision.tv/event/frankfurt-1957  1957  frankfurt\n",
       "65     https://eurovision.tv/event/lugano-1956  1956     lugano\n",
       "\n",
       "[66 rows x 3 columns]"
      ],
      "text/html": "<div>\n<style scoped>\n    .dataframe tbody tr th:only-of-type {\n        vertical-align: middle;\n    }\n\n    .dataframe tbody tr th {\n        vertical-align: top;\n    }\n\n    .dataframe thead th {\n        text-align: right;\n    }\n</style>\n<table border=\"1\" class=\"dataframe\">\n  <thead>\n    <tr style=\"text-align: right;\">\n      <th></th>\n      <th>url</th>\n      <th>year</th>\n      <th>place</th>\n    </tr>\n  </thead>\n  <tbody>\n    <tr>\n      <th>0</th>\n      <td>https://eurovision.tv/event/rotterdam-2021</td>\n      <td>2021</td>\n      <td>rotterdam</td>\n    </tr>\n    <tr>\n      <th>1</th>\n      <td>https://eurovision.tv/event/rotterdam-2020</td>\n      <td>2020</td>\n      <td>rotterdam</td>\n    </tr>\n    <tr>\n      <th>2</th>\n      <td>https://eurovision.tv/event/tel-aviv-2019</td>\n      <td>2019</td>\n      <td>tel aviv</td>\n    </tr>\n    <tr>\n      <th>3</th>\n      <td>https://eurovision.tv/event/lisbon-2018</td>\n      <td>2018</td>\n      <td>lisbon</td>\n    </tr>\n    <tr>\n      <th>4</th>\n      <td>https://eurovision.tv/event/kyiv-2017</td>\n      <td>2017</td>\n      <td>kyiv</td>\n    </tr>\n    <tr>\n      <th>...</th>\n      <td>...</td>\n      <td>...</td>\n      <td>...</td>\n    </tr>\n    <tr>\n      <th>61</th>\n      <td>https://eurovision.tv/event/london-1960</td>\n      <td>1960</td>\n      <td>london</td>\n    </tr>\n    <tr>\n      <th>62</th>\n      <td>https://eurovision.tv/event/cannes-1959</td>\n      <td>1959</td>\n      <td>cannes</td>\n    </tr>\n    <tr>\n      <th>63</th>\n      <td>https://eurovision.tv/event/hilversum-1958</td>\n      <td>1958</td>\n      <td>hilversum</td>\n    </tr>\n    <tr>\n      <th>64</th>\n      <td>https://eurovision.tv/event/frankfurt-1957</td>\n      <td>1957</td>\n      <td>frankfurt</td>\n    </tr>\n    <tr>\n      <th>65</th>\n      <td>https://eurovision.tv/event/lugano-1956</td>\n      <td>1956</td>\n      <td>lugano</td>\n    </tr>\n  </tbody>\n</table>\n<p>66 rows × 3 columns</p>\n</div>"
     },
     "metadata": {},
     "execution_count": 4
    }
   ],
   "source": [
    "# Get All Events\n",
    "# https://eurovision.tv/event/tel-aviv-2019/grand-final/results/albania\n",
    "\n",
    "from fake_useragent import UserAgent\n",
    "ua = UserAgent()\n",
    "\n",
    "url = 'https://eurovision.tv/events/'\n",
    "r = requests.get( url , headers = {'User-Agent': ua.random}  )\n",
    "html = lxml.html.fromstring( r.text )\n",
    "events = html.xpath('//div[@class=\"flex flex-wrap\"]/div/div/a')\n",
    "\n",
    "event_links = [i.get('href') for i in events]\n",
    "df_events = pd.DataFrame( event_links , columns= ['url'])\n",
    "\n",
    "df_events['year'] = [ int(r.split('-')[ len(r.split('-'))-1 ]) for i,r in df_events['url'].iteritems() ]\n",
    "df_events['place'] = [ r.split('/')[ len(r.split('/'))-1 ] for i,r in df_events['url'].iteritems() ]\n",
    "df_events['place'] = [ \" \".join(r.split('-')[ :len(r.split('-'))-1 ]) for i,r in df_events['place'].iteritems() ]\n",
    "\n",
    "df_events"
   ]
  },
  {
   "cell_type": "code",
   "execution_count": 47,
   "metadata": {
    "tags": []
   },
   "outputs": [],
   "source": [
    "import time\n",
    "import random\n",
    "#Extract Data\n",
    "\n",
    "def get_pts( df , year ): #Get given years votes per country\n",
    "\n",
    "    from fake_useragent import UserAgent\n",
    "    ua = UserAgent()\n",
    "\n",
    "    all_pts = pd.DataFrame()\n",
    "    #Format changes in 2004 - Istanbul\n",
    "\n",
    "    if year < 2004: url = df[ df['year']==year ]['url'].tolist()[0] + '/final/results/'\n",
    "    if year >= 2004: url = df[ df['year']==year ]['url'].tolist()[0] + '/grand-final/results/'\n",
    "    #Get all countries for results\n",
    "    r = requests.get( url , headers = {'User-Agent': ua.random}  )\n",
    "    html = lxml.html.fromstring( r.text )\n",
    "    countries = html.xpath('//option')\n",
    "    country_links = [i.get('value') for i in countries] \n",
    "\n",
    "    proxies = {\n",
    "        'http': 'http://135.181.68.88:3128',\n",
    "        'https': 'http://135.181.68.88:3128',\n",
    "    }\n",
    "\n",
    "    for c in country_links: #Get points received\n",
    "        if c:\n",
    "            try:\n",
    "                r = requests.get( c ,\n",
    "                    headers = {'User-Agent': ua.random} ,\n",
    "                    #proxies= proxies\n",
    "                    )\n",
    "                pts = pd.read_html( r.text )[0]\n",
    "                pts.columns = ['pts','pts_from']\n",
    "                pts['year'] = year\n",
    "                pts['points_to'] = c.split('/')[len(c.split('/'))-1] \n",
    "                all_pts = all_pts.append( pts )\n",
    "            except:\n",
    "                print( c )\n",
    "        time.sleep( random.random()*3 )\n",
    "    if len(all_pts) == 0: print( str(year), 'is empty' )\n",
    "    return all_pts\n"
   ]
  },
  {
   "cell_type": "code",
   "execution_count": 59,
   "metadata": {},
   "outputs": [
    {
     "output_type": "execute_result",
     "data": {
      "text/plain": [
       "    pts                         pts_from  year   points_to\n",
       "0    12                          Albania  2018       italy\n",
       "1    12                            Malta  2018       italy\n",
       "2    12                          Germany  2018       italy\n",
       "3    10                           France  2018       italy\n",
       "4    10                         Slovenia  2018       italy\n",
       "..  ...                              ...   ...         ...\n",
       "9     1                   United Kingdom  2018  san-marino\n",
       "0     6                            Malta  2018   australia\n",
       "1     2                          Denmark  2018   australia\n",
       "2     1                   United Kingdom  2018   australia\n",
       "3     9  points received from televoters  2018   australia\n",
       "\n",
       "[626 rows x 4 columns]"
      ],
      "text/html": "<div>\n<style scoped>\n    .dataframe tbody tr th:only-of-type {\n        vertical-align: middle;\n    }\n\n    .dataframe tbody tr th {\n        vertical-align: top;\n    }\n\n    .dataframe thead th {\n        text-align: right;\n    }\n</style>\n<table border=\"1\" class=\"dataframe\">\n  <thead>\n    <tr style=\"text-align: right;\">\n      <th></th>\n      <th>pts</th>\n      <th>pts_from</th>\n      <th>year</th>\n      <th>points_to</th>\n    </tr>\n  </thead>\n  <tbody>\n    <tr>\n      <th>0</th>\n      <td>12</td>\n      <td>Albania</td>\n      <td>2018</td>\n      <td>italy</td>\n    </tr>\n    <tr>\n      <th>1</th>\n      <td>12</td>\n      <td>Malta</td>\n      <td>2018</td>\n      <td>italy</td>\n    </tr>\n    <tr>\n      <th>2</th>\n      <td>12</td>\n      <td>Germany</td>\n      <td>2018</td>\n      <td>italy</td>\n    </tr>\n    <tr>\n      <th>3</th>\n      <td>10</td>\n      <td>France</td>\n      <td>2018</td>\n      <td>italy</td>\n    </tr>\n    <tr>\n      <th>4</th>\n      <td>10</td>\n      <td>Slovenia</td>\n      <td>2018</td>\n      <td>italy</td>\n    </tr>\n    <tr>\n      <th>...</th>\n      <td>...</td>\n      <td>...</td>\n      <td>...</td>\n      <td>...</td>\n    </tr>\n    <tr>\n      <th>9</th>\n      <td>1</td>\n      <td>United Kingdom</td>\n      <td>2018</td>\n      <td>san-marino</td>\n    </tr>\n    <tr>\n      <th>0</th>\n      <td>6</td>\n      <td>Malta</td>\n      <td>2018</td>\n      <td>australia</td>\n    </tr>\n    <tr>\n      <th>1</th>\n      <td>2</td>\n      <td>Denmark</td>\n      <td>2018</td>\n      <td>australia</td>\n    </tr>\n    <tr>\n      <th>2</th>\n      <td>1</td>\n      <td>United Kingdom</td>\n      <td>2018</td>\n      <td>australia</td>\n    </tr>\n    <tr>\n      <th>3</th>\n      <td>9</td>\n      <td>points received from televoters</td>\n      <td>2018</td>\n      <td>australia</td>\n    </tr>\n  </tbody>\n</table>\n<p>626 rows × 4 columns</p>\n</div>"
     },
     "metadata": {},
     "execution_count": 59
    }
   ],
   "source": [
    "year = 2018\n",
    "folder = r'C:\\Users\\csucuogl\\Documents\\GitHub\\IdeasTesting\\Songs\\data'\n",
    "temp = get_pts( df_events , year )\n",
    "\n",
    "temp.to_csv( os.path.join(folder,'results_'+str(year)+'.csv' ) )\n",
    "\n",
    "temp"
   ]
  },
  {
   "cell_type": "code",
   "execution_count": 3,
   "metadata": {},
   "outputs": [
    {
     "output_type": "execute_result",
     "data": {
      "text/plain": [
       "['results_1958.csv',\n",
       " 'results_1959.csv',\n",
       " 'results_1960.csv',\n",
       " 'results_1961.csv',\n",
       " 'results_1962.csv',\n",
       " 'results_1963.csv',\n",
       " 'results_1964.csv',\n",
       " 'results_1965.csv',\n",
       " 'results_1966.csv',\n",
       " 'results_1967.csv',\n",
       " 'results_1968.csv',\n",
       " 'results_1969.csv',\n",
       " 'results_1970.csv',\n",
       " 'results_1971.csv',\n",
       " 'results_1972.csv',\n",
       " 'results_1973.csv',\n",
       " 'results_1974.csv',\n",
       " 'results_1975.csv',\n",
       " 'results_1976.csv',\n",
       " 'results_1977.csv',\n",
       " 'results_1978.csv',\n",
       " 'results_1979.csv',\n",
       " 'results_1980.csv',\n",
       " 'results_1981.csv',\n",
       " 'results_1982.csv',\n",
       " 'results_1983.csv',\n",
       " 'results_1984.csv',\n",
       " 'results_1985.csv',\n",
       " 'results_1986.csv',\n",
       " 'results_1987.csv',\n",
       " 'results_1988.csv',\n",
       " 'results_1989.csv',\n",
       " 'results_1990.csv',\n",
       " 'results_1991.csv',\n",
       " 'results_1992.csv',\n",
       " 'results_1993.csv',\n",
       " 'results_1994.csv',\n",
       " 'results_1995.csv',\n",
       " 'results_1996.csv',\n",
       " 'results_1997.csv',\n",
       " 'results_1998.csv',\n",
       " 'results_1999.csv',\n",
       " 'results_2000.csv',\n",
       " 'results_2001.csv',\n",
       " 'results_2002.csv',\n",
       " 'results_2003.csv',\n",
       " 'results_2004.csv',\n",
       " 'results_2005.csv',\n",
       " 'results_2006.csv',\n",
       " 'results_2008.csv',\n",
       " 'results_2009.csv',\n",
       " 'results_2010.csv',\n",
       " 'results_2011.csv',\n",
       " 'results_2012.csv',\n",
       " 'results_2013.csv',\n",
       " 'results_2014.csv',\n",
       " 'results_2015.csv',\n",
       " 'results_2016.csv',\n",
       " 'results_2017.csv',\n",
       " 'results_2018.csv',\n",
       " 'results_2019.csv']"
      ]
     },
     "metadata": {},
     "execution_count": 3
    }
   ],
   "source": [
    "folder = r'C:\\Users\\csucuogl\\Documents\\GitHub\\IdeasTesting\\Songs\\data' \n",
    "files = os.listdir( folder )\n",
    "files"
   ]
  },
  {
   "cell_type": "code",
   "execution_count": 4,
   "metadata": {},
   "outputs": [
    {
     "output_type": "error",
     "ename": "FileNotFoundError",
     "evalue": "[Errno 2] No such file or directory: 'results_1958.csv'",
     "traceback": [
      "\u001b[1;31m---------------------------------------------------------------------------\u001b[0m",
      "\u001b[1;31mFileNotFoundError\u001b[0m                         Traceback (most recent call last)",
      "\u001b[1;32m<ipython-input-4-0033efdca9b8>\u001b[0m in \u001b[0;36m<module>\u001b[1;34m\u001b[0m\n\u001b[0;32m      3\u001b[0m \u001b[0mdf\u001b[0m \u001b[1;33m=\u001b[0m \u001b[0mpd\u001b[0m\u001b[1;33m.\u001b[0m\u001b[0mDataFrame\u001b[0m\u001b[1;33m(\u001b[0m\u001b[1;33m)\u001b[0m\u001b[1;33m\u001b[0m\u001b[1;33m\u001b[0m\u001b[0m\n\u001b[0;32m      4\u001b[0m \u001b[1;32mfor\u001b[0m \u001b[0mf\u001b[0m \u001b[1;32min\u001b[0m \u001b[0mfiles\u001b[0m\u001b[1;33m:\u001b[0m\u001b[1;33m\u001b[0m\u001b[1;33m\u001b[0m\u001b[0m\n\u001b[1;32m----> 5\u001b[1;33m     \u001b[0mtemp\u001b[0m \u001b[1;33m=\u001b[0m \u001b[0mpd\u001b[0m\u001b[1;33m.\u001b[0m\u001b[0mread_csv\u001b[0m\u001b[1;33m(\u001b[0m\u001b[0mf\u001b[0m\u001b[1;33m)\u001b[0m\u001b[1;33m\u001b[0m\u001b[1;33m\u001b[0m\u001b[0m\n\u001b[0m\u001b[0;32m      6\u001b[0m     \u001b[0mdf\u001b[0m \u001b[1;33m=\u001b[0m \u001b[0mdf\u001b[0m\u001b[1;33m.\u001b[0m\u001b[0mappend\u001b[0m\u001b[1;33m(\u001b[0m \u001b[0mtemp\u001b[0m \u001b[1;33m)\u001b[0m\u001b[1;33m\u001b[0m\u001b[1;33m\u001b[0m\u001b[0m\n\u001b[0;32m      7\u001b[0m \u001b[1;33m\u001b[0m\u001b[0m\n",
      "\u001b[1;32mC:\\PRGS\\ANACONDA\\envs\\Spyder_4\\lib\\site-packages\\pandas\\io\\parsers.py\u001b[0m in \u001b[0;36mread_csv\u001b[1;34m(filepath_or_buffer, sep, delimiter, header, names, index_col, usecols, squeeze, prefix, mangle_dupe_cols, dtype, engine, converters, true_values, false_values, skipinitialspace, skiprows, skipfooter, nrows, na_values, keep_default_na, na_filter, verbose, skip_blank_lines, parse_dates, infer_datetime_format, keep_date_col, date_parser, dayfirst, cache_dates, iterator, chunksize, compression, thousands, decimal, lineterminator, quotechar, quoting, doublequote, escapechar, comment, encoding, dialect, error_bad_lines, warn_bad_lines, delim_whitespace, low_memory, memory_map, float_precision, storage_options)\u001b[0m\n\u001b[0;32m    608\u001b[0m     \u001b[0mkwds\u001b[0m\u001b[1;33m.\u001b[0m\u001b[0mupdate\u001b[0m\u001b[1;33m(\u001b[0m\u001b[0mkwds_defaults\u001b[0m\u001b[1;33m)\u001b[0m\u001b[1;33m\u001b[0m\u001b[1;33m\u001b[0m\u001b[0m\n\u001b[0;32m    609\u001b[0m \u001b[1;33m\u001b[0m\u001b[0m\n\u001b[1;32m--> 610\u001b[1;33m     \u001b[1;32mreturn\u001b[0m \u001b[0m_read\u001b[0m\u001b[1;33m(\u001b[0m\u001b[0mfilepath_or_buffer\u001b[0m\u001b[1;33m,\u001b[0m \u001b[0mkwds\u001b[0m\u001b[1;33m)\u001b[0m\u001b[1;33m\u001b[0m\u001b[1;33m\u001b[0m\u001b[0m\n\u001b[0m\u001b[0;32m    611\u001b[0m \u001b[1;33m\u001b[0m\u001b[0m\n\u001b[0;32m    612\u001b[0m \u001b[1;33m\u001b[0m\u001b[0m\n",
      "\u001b[1;32mC:\\PRGS\\ANACONDA\\envs\\Spyder_4\\lib\\site-packages\\pandas\\io\\parsers.py\u001b[0m in \u001b[0;36m_read\u001b[1;34m(filepath_or_buffer, kwds)\u001b[0m\n\u001b[0;32m    460\u001b[0m \u001b[1;33m\u001b[0m\u001b[0m\n\u001b[0;32m    461\u001b[0m     \u001b[1;31m# Create the parser.\u001b[0m\u001b[1;33m\u001b[0m\u001b[1;33m\u001b[0m\u001b[1;33m\u001b[0m\u001b[0m\n\u001b[1;32m--> 462\u001b[1;33m     \u001b[0mparser\u001b[0m \u001b[1;33m=\u001b[0m \u001b[0mTextFileReader\u001b[0m\u001b[1;33m(\u001b[0m\u001b[0mfilepath_or_buffer\u001b[0m\u001b[1;33m,\u001b[0m \u001b[1;33m**\u001b[0m\u001b[0mkwds\u001b[0m\u001b[1;33m)\u001b[0m\u001b[1;33m\u001b[0m\u001b[1;33m\u001b[0m\u001b[0m\n\u001b[0m\u001b[0;32m    463\u001b[0m \u001b[1;33m\u001b[0m\u001b[0m\n\u001b[0;32m    464\u001b[0m     \u001b[1;32mif\u001b[0m \u001b[0mchunksize\u001b[0m \u001b[1;32mor\u001b[0m \u001b[0miterator\u001b[0m\u001b[1;33m:\u001b[0m\u001b[1;33m\u001b[0m\u001b[1;33m\u001b[0m\u001b[0m\n",
      "\u001b[1;32mC:\\PRGS\\ANACONDA\\envs\\Spyder_4\\lib\\site-packages\\pandas\\io\\parsers.py\u001b[0m in \u001b[0;36m__init__\u001b[1;34m(self, f, engine, **kwds)\u001b[0m\n\u001b[0;32m    817\u001b[0m             \u001b[0mself\u001b[0m\u001b[1;33m.\u001b[0m\u001b[0moptions\u001b[0m\u001b[1;33m[\u001b[0m\u001b[1;34m\"has_index_names\"\u001b[0m\u001b[1;33m]\u001b[0m \u001b[1;33m=\u001b[0m \u001b[0mkwds\u001b[0m\u001b[1;33m[\u001b[0m\u001b[1;34m\"has_index_names\"\u001b[0m\u001b[1;33m]\u001b[0m\u001b[1;33m\u001b[0m\u001b[1;33m\u001b[0m\u001b[0m\n\u001b[0;32m    818\u001b[0m \u001b[1;33m\u001b[0m\u001b[0m\n\u001b[1;32m--> 819\u001b[1;33m         \u001b[0mself\u001b[0m\u001b[1;33m.\u001b[0m\u001b[0m_engine\u001b[0m \u001b[1;33m=\u001b[0m \u001b[0mself\u001b[0m\u001b[1;33m.\u001b[0m\u001b[0m_make_engine\u001b[0m\u001b[1;33m(\u001b[0m\u001b[0mself\u001b[0m\u001b[1;33m.\u001b[0m\u001b[0mengine\u001b[0m\u001b[1;33m)\u001b[0m\u001b[1;33m\u001b[0m\u001b[1;33m\u001b[0m\u001b[0m\n\u001b[0m\u001b[0;32m    820\u001b[0m \u001b[1;33m\u001b[0m\u001b[0m\n\u001b[0;32m    821\u001b[0m     \u001b[1;32mdef\u001b[0m \u001b[0mclose\u001b[0m\u001b[1;33m(\u001b[0m\u001b[0mself\u001b[0m\u001b[1;33m)\u001b[0m\u001b[1;33m:\u001b[0m\u001b[1;33m\u001b[0m\u001b[1;33m\u001b[0m\u001b[0m\n",
      "\u001b[1;32mC:\\PRGS\\ANACONDA\\envs\\Spyder_4\\lib\\site-packages\\pandas\\io\\parsers.py\u001b[0m in \u001b[0;36m_make_engine\u001b[1;34m(self, engine)\u001b[0m\n\u001b[0;32m   1048\u001b[0m             )\n\u001b[0;32m   1049\u001b[0m         \u001b[1;31m# error: Too many arguments for \"ParserBase\"\u001b[0m\u001b[1;33m\u001b[0m\u001b[1;33m\u001b[0m\u001b[1;33m\u001b[0m\u001b[0m\n\u001b[1;32m-> 1050\u001b[1;33m         \u001b[1;32mreturn\u001b[0m \u001b[0mmapping\u001b[0m\u001b[1;33m[\u001b[0m\u001b[0mengine\u001b[0m\u001b[1;33m]\u001b[0m\u001b[1;33m(\u001b[0m\u001b[0mself\u001b[0m\u001b[1;33m.\u001b[0m\u001b[0mf\u001b[0m\u001b[1;33m,\u001b[0m \u001b[1;33m**\u001b[0m\u001b[0mself\u001b[0m\u001b[1;33m.\u001b[0m\u001b[0moptions\u001b[0m\u001b[1;33m)\u001b[0m  \u001b[1;31m# type: ignore[call-arg]\u001b[0m\u001b[1;33m\u001b[0m\u001b[1;33m\u001b[0m\u001b[0m\n\u001b[0m\u001b[0;32m   1051\u001b[0m \u001b[1;33m\u001b[0m\u001b[0m\n\u001b[0;32m   1052\u001b[0m     \u001b[1;32mdef\u001b[0m \u001b[0m_failover_to_python\u001b[0m\u001b[1;33m(\u001b[0m\u001b[0mself\u001b[0m\u001b[1;33m)\u001b[0m\u001b[1;33m:\u001b[0m\u001b[1;33m\u001b[0m\u001b[1;33m\u001b[0m\u001b[0m\n",
      "\u001b[1;32mC:\\PRGS\\ANACONDA\\envs\\Spyder_4\\lib\\site-packages\\pandas\\io\\parsers.py\u001b[0m in \u001b[0;36m__init__\u001b[1;34m(self, src, **kwds)\u001b[0m\n\u001b[0;32m   1865\u001b[0m \u001b[1;33m\u001b[0m\u001b[0m\n\u001b[0;32m   1866\u001b[0m         \u001b[1;31m# open handles\u001b[0m\u001b[1;33m\u001b[0m\u001b[1;33m\u001b[0m\u001b[1;33m\u001b[0m\u001b[0m\n\u001b[1;32m-> 1867\u001b[1;33m         \u001b[0mself\u001b[0m\u001b[1;33m.\u001b[0m\u001b[0m_open_handles\u001b[0m\u001b[1;33m(\u001b[0m\u001b[0msrc\u001b[0m\u001b[1;33m,\u001b[0m \u001b[0mkwds\u001b[0m\u001b[1;33m)\u001b[0m\u001b[1;33m\u001b[0m\u001b[1;33m\u001b[0m\u001b[0m\n\u001b[0m\u001b[0;32m   1868\u001b[0m         \u001b[1;32massert\u001b[0m \u001b[0mself\u001b[0m\u001b[1;33m.\u001b[0m\u001b[0mhandles\u001b[0m \u001b[1;32mis\u001b[0m \u001b[1;32mnot\u001b[0m \u001b[1;32mNone\u001b[0m\u001b[1;33m\u001b[0m\u001b[1;33m\u001b[0m\u001b[0m\n\u001b[0;32m   1869\u001b[0m         \u001b[1;32mfor\u001b[0m \u001b[0mkey\u001b[0m \u001b[1;32min\u001b[0m \u001b[1;33m(\u001b[0m\u001b[1;34m\"storage_options\"\u001b[0m\u001b[1;33m,\u001b[0m \u001b[1;34m\"encoding\"\u001b[0m\u001b[1;33m,\u001b[0m \u001b[1;34m\"memory_map\"\u001b[0m\u001b[1;33m,\u001b[0m \u001b[1;34m\"compression\"\u001b[0m\u001b[1;33m)\u001b[0m\u001b[1;33m:\u001b[0m\u001b[1;33m\u001b[0m\u001b[1;33m\u001b[0m\u001b[0m\n",
      "\u001b[1;32mC:\\PRGS\\ANACONDA\\envs\\Spyder_4\\lib\\site-packages\\pandas\\io\\parsers.py\u001b[0m in \u001b[0;36m_open_handles\u001b[1;34m(self, src, kwds)\u001b[0m\n\u001b[0;32m   1366\u001b[0m             \u001b[0mcompression\u001b[0m\u001b[1;33m=\u001b[0m\u001b[0mkwds\u001b[0m\u001b[1;33m.\u001b[0m\u001b[0mget\u001b[0m\u001b[1;33m(\u001b[0m\u001b[1;34m\"compression\"\u001b[0m\u001b[1;33m,\u001b[0m \u001b[1;32mNone\u001b[0m\u001b[1;33m)\u001b[0m\u001b[1;33m,\u001b[0m\u001b[1;33m\u001b[0m\u001b[1;33m\u001b[0m\u001b[0m\n\u001b[0;32m   1367\u001b[0m             \u001b[0mmemory_map\u001b[0m\u001b[1;33m=\u001b[0m\u001b[0mkwds\u001b[0m\u001b[1;33m.\u001b[0m\u001b[0mget\u001b[0m\u001b[1;33m(\u001b[0m\u001b[1;34m\"memory_map\"\u001b[0m\u001b[1;33m,\u001b[0m \u001b[1;32mFalse\u001b[0m\u001b[1;33m)\u001b[0m\u001b[1;33m,\u001b[0m\u001b[1;33m\u001b[0m\u001b[1;33m\u001b[0m\u001b[0m\n\u001b[1;32m-> 1368\u001b[1;33m             \u001b[0mstorage_options\u001b[0m\u001b[1;33m=\u001b[0m\u001b[0mkwds\u001b[0m\u001b[1;33m.\u001b[0m\u001b[0mget\u001b[0m\u001b[1;33m(\u001b[0m\u001b[1;34m\"storage_options\"\u001b[0m\u001b[1;33m,\u001b[0m \u001b[1;32mNone\u001b[0m\u001b[1;33m)\u001b[0m\u001b[1;33m,\u001b[0m\u001b[1;33m\u001b[0m\u001b[1;33m\u001b[0m\u001b[0m\n\u001b[0m\u001b[0;32m   1369\u001b[0m         )\n\u001b[0;32m   1370\u001b[0m \u001b[1;33m\u001b[0m\u001b[0m\n",
      "\u001b[1;32mC:\\PRGS\\ANACONDA\\envs\\Spyder_4\\lib\\site-packages\\pandas\\io\\common.py\u001b[0m in \u001b[0;36mget_handle\u001b[1;34m(path_or_buf, mode, encoding, compression, memory_map, is_text, errors, storage_options)\u001b[0m\n\u001b[0;32m    645\u001b[0m                 \u001b[0mencoding\u001b[0m\u001b[1;33m=\u001b[0m\u001b[0mioargs\u001b[0m\u001b[1;33m.\u001b[0m\u001b[0mencoding\u001b[0m\u001b[1;33m,\u001b[0m\u001b[1;33m\u001b[0m\u001b[1;33m\u001b[0m\u001b[0m\n\u001b[0;32m    646\u001b[0m                 \u001b[0merrors\u001b[0m\u001b[1;33m=\u001b[0m\u001b[0merrors\u001b[0m\u001b[1;33m,\u001b[0m\u001b[1;33m\u001b[0m\u001b[1;33m\u001b[0m\u001b[0m\n\u001b[1;32m--> 647\u001b[1;33m                 \u001b[0mnewline\u001b[0m\u001b[1;33m=\u001b[0m\u001b[1;34m\"\"\u001b[0m\u001b[1;33m,\u001b[0m\u001b[1;33m\u001b[0m\u001b[1;33m\u001b[0m\u001b[0m\n\u001b[0m\u001b[0;32m    648\u001b[0m             )\n\u001b[0;32m    649\u001b[0m         \u001b[1;32melse\u001b[0m\u001b[1;33m:\u001b[0m\u001b[1;33m\u001b[0m\u001b[1;33m\u001b[0m\u001b[0m\n",
      "\u001b[1;31mFileNotFoundError\u001b[0m: [Errno 2] No such file or directory: 'results_1958.csv'"
     ]
    }
   ],
   "source": [
    "import pandas as pd\n",
    "\n",
    "df = pd.DataFrame()\n",
    "for f in files:\n",
    "    temp = pd.read_csv(f)\n",
    "    df = df.append( temp )\n",
    "\n",
    "df.sample()"
   ]
  },
  {
   "cell_type": "code",
   "execution_count": null,
   "metadata": {},
   "outputs": [],
   "source": []
  }
 ]
}