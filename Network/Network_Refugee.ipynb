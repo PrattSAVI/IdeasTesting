{
 "metadata": {
  "language_info": {
   "codemirror_mode": {
    "name": "ipython",
    "version": 3
   },
   "file_extension": ".py",
   "mimetype": "text/x-python",
   "name": "python",
   "nbconvert_exporter": "python",
   "pygments_lexer": "ipython3",
   "version": "3.7.6-final"
  },
  "orig_nbformat": 2,
  "kernelspec": {
   "name": "python3",
   "display_name": "Python 3"
  }
 },
 "nbformat": 4,
 "nbformat_minor": 2,
 "cells": [
  {
   "cell_type": "code",
   "execution_count": 111,
   "metadata": {},
   "outputs": [],
   "source": [
    "import pandas as pd\n",
    "import matplotlib.pyplot as plt\n",
    "import networkx as nx"
   ]
  },
  {
   "cell_type": "code",
   "execution_count": 112,
   "metadata": {},
   "outputs": [
    {
     "output_type": "execute_result",
     "data": {
      "text/plain": [
       "     residence                  origin    year  Refugees  Refugees_UNHCR  \\\n",
       "0  Afghanistan                    Iraq  2016.0       1.0             1.0   \n",
       "1  Afghanistan    Islamic Rep. of Iran  2016.0      33.0            33.0   \n",
       "2  Afghanistan                Pakistan  2016.0   59737.0         59737.0   \n",
       "3      Albania                   China  2016.0      11.0            11.0   \n",
       "4      Albania  Dem. Rep. of the Congo  2016.0       3.0             3.0   \n",
       "\n",
       "   TotPeople  TotPeople_UNHCR  \n",
       "0        1.0              1.0  \n",
       "1       33.0             33.0  \n",
       "2    59737.0          59737.0  \n",
       "3       11.0             11.0  \n",
       "4        3.0              3.0  "
      ],
      "text/html": "<div>\n<style scoped>\n    .dataframe tbody tr th:only-of-type {\n        vertical-align: middle;\n    }\n\n    .dataframe tbody tr th {\n        vertical-align: top;\n    }\n\n    .dataframe thead th {\n        text-align: right;\n    }\n</style>\n<table border=\"1\" class=\"dataframe\">\n  <thead>\n    <tr style=\"text-align: right;\">\n      <th></th>\n      <th>residence</th>\n      <th>origin</th>\n      <th>year</th>\n      <th>Refugees</th>\n      <th>Refugees_UNHCR</th>\n      <th>TotPeople</th>\n      <th>TotPeople_UNHCR</th>\n    </tr>\n  </thead>\n  <tbody>\n    <tr>\n      <th>0</th>\n      <td>Afghanistan</td>\n      <td>Iraq</td>\n      <td>2016.0</td>\n      <td>1.0</td>\n      <td>1.0</td>\n      <td>1.0</td>\n      <td>1.0</td>\n    </tr>\n    <tr>\n      <th>1</th>\n      <td>Afghanistan</td>\n      <td>Islamic Rep. of Iran</td>\n      <td>2016.0</td>\n      <td>33.0</td>\n      <td>33.0</td>\n      <td>33.0</td>\n      <td>33.0</td>\n    </tr>\n    <tr>\n      <th>2</th>\n      <td>Afghanistan</td>\n      <td>Pakistan</td>\n      <td>2016.0</td>\n      <td>59737.0</td>\n      <td>59737.0</td>\n      <td>59737.0</td>\n      <td>59737.0</td>\n    </tr>\n    <tr>\n      <th>3</th>\n      <td>Albania</td>\n      <td>China</td>\n      <td>2016.0</td>\n      <td>11.0</td>\n      <td>11.0</td>\n      <td>11.0</td>\n      <td>11.0</td>\n    </tr>\n    <tr>\n      <th>4</th>\n      <td>Albania</td>\n      <td>Dem. Rep. of the Congo</td>\n      <td>2016.0</td>\n      <td>3.0</td>\n      <td>3.0</td>\n      <td>3.0</td>\n      <td>3.0</td>\n    </tr>\n  </tbody>\n</table>\n</div>"
     },
     "metadata": {},
     "execution_count": 112
    }
   ],
   "source": [
    "df = pd.read_csv( r\"C:\\Users\\csucuogl\\Desktop\\UNdata_Export_20201210_215615692.csv\" )\n",
    "df.columns = ['residence','origin','year','Refugees','Refugees_UNHCR','TotPeople','TotPeople_UNHCR']\n",
    "\n",
    "df.head(5)\n"
   ]
  },
  {
   "cell_type": "code",
   "execution_count": 113,
   "metadata": {},
   "outputs": [],
   "source": [
    "\n",
    "from pyvis.network import Network\n",
    "\n",
    "got_net = Network(height=\"750px\", width=\"100%\", bgcolor=\"#222222\", font_color=\"white\")\n",
    "\n",
    "# set the physics layout of the network\n",
    "got_net.barnes_hut()\n",
    "\n",
    "edge_data = zip( df1['origin'], df1['residence'], df1['TotPeople'])\n",
    "\n",
    "for e in edge_data:\n",
    "    src = e[0]\n",
    "    dst = e[1]\n",
    "    w = e[2]\n",
    "\n",
    "    got_net.add_node(src, src, title=src)\n",
    "    got_net.add_node(dst, dst, title=dst)\n",
    "    got_net.add_edge(src, dst, value=w)\n",
    "\n",
    "neighbor_map = got_net.get_adj_list()\n",
    "\n",
    "# add neighbor data to node hover data\n",
    "for node in got_net.nodes:\n",
    "    node[\"title\"] += \" Neighbors:<br>\" + \"<br>\".join(neighbor_map[node[\"id\"]])\n",
    "    node[\"value\"] = len(neighbor_map[node[\"id\"]])\n",
    "\n",
    "got_net.show(\"momo.html\")\n"
   ]
  },
  {
   "cell_type": "code",
   "execution_count": null,
   "metadata": {},
   "outputs": [],
   "source": [
    "import netwulf as nw\n",
    "\n",
    "G = nx.DiGraph()\n",
    "\n",
    "df1 = df[ df['year'] == 1981 ]\n",
    "\n",
    "[ G.add_edge(a[0], a[1], weight=a[2]) for a in zip( df1['origin'], df1['residence'], df1['TotPeople']) ]\n",
    "print('Edges Added')\n",
    "\n",
    "#for i in df1['origin'].unique(): G.add_node(i, size= df1[ df1['origin']== i]['Refugees'].sum()  )\n",
    "#print( 'Nodes Added' )\n",
    "\n",
    "#for i in edge_data: G.add_weighted_edges_from( edge_data )\n",
    "\n",
    "stylized_network, config = nw.visualize(G)"
   ]
  },
  {
   "cell_type": "code",
   "execution_count": null,
   "metadata": {},
   "outputs": [],
   "source": []
  },
  {
   "cell_type": "code",
   "execution_count": null,
   "metadata": {},
   "outputs": [],
   "source": []
  }
 ]
}